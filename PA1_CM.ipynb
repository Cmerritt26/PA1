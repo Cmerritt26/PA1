{
 "cells": [
  {
   "cell_type": "markdown",
   "id": "de3cad5c",
   "metadata": {},
   "source": [
    "# Corey Merritt"
   ]
  },
  {
   "cell_type": "markdown",
   "id": "18af733e",
   "metadata": {},
   "source": [
    "### I am a 20 year old sophmore at Bellarmine University and I am a Business major. I am interested in learning coding for my minor in business analytics and to expand my profesional development in analytical thinking. "
   ]
  },
  {
   "cell_type": "markdown",
   "id": "ba879b30",
   "metadata": {},
   "source": [
    "* Programming assignments\n",
    "* Quizzes\n",
    "* Attendence/in class completed notebook submission\n",
    "* Mid term exam\n",
    "* Project"
   ]
  },
  {
   "cell_type": "markdown",
   "id": "1b5fba5b",
   "metadata": {},
   "source": [
    "1. Module 0 – Course Introduction\n",
    "2. Module 1 – Variables and Simple Data Types\n",
    "3. Module 2 – Introducing Lists, Tuples\n",
    "4. Module 3 – if Statements\n",
    "5. Module 4 – Dictionaries\n",
    "6. Module 5 – While Loops\n",
    "7. Module 6 – Functions\n",
    "8. Module 7 – Classes\n",
    "9. Module 8 – Numpy\n",
    "\n",
    "\n"
   ]
  },
  {
   "cell_type": "markdown",
   "id": "b920bd9b",
   "metadata": {},
   "source": [
    "**Python** "
   ]
  },
  {
   "cell_type": "markdown",
   "id": "f8f97dc2",
   "metadata": {},
   "source": [
    "*Jupyter Labs* "
   ]
  },
  {
   "cell_type": "markdown",
   "id": "fc6ee117",
   "metadata": {},
   "source": [
    "`Hello my name is Corey`"
   ]
  },
  {
   "cell_type": "markdown",
   "id": "27c7300e",
   "metadata": {},
   "source": [
    "<a href=\"https://github.com/Cmerritt26\"> "
   ]
  },
  {
   "cell_type": "markdown",
   "id": "4b72c39e",
   "metadata": {},
   "source": [
    "<a href=\"https://github.com/Cmerritt26\">github link </a> "
   ]
  },
  {
   "cell_type": "markdown",
   "id": "24fc2840",
   "metadata": {},
   "source": [
    "![Bellarmine Logo](https://yt3.ggpht.com/a-/AAuE7mBd_gjcoRFtC_zJZ3edzta01WVb5-rxnwpRyA=s900-mo-c-c0xffffffff-rj-k-no)"
   ]
  },
  {
   "cell_type": "markdown",
   "id": "0440faf6",
   "metadata": {},
   "source": [
    "    I learned the basic functions of markdown codes on using python computer language. These functions include headers, lists, hightlighting text, hyperlinks, etc. I used Jupyter labs in order to complete these functions. All in all, I used basic functions using markdown coding in order to display several texts with headings, hyperlinks, and a rendered image of Bellarmine's logo. "
   ]
  },
  {
   "cell_type": "markdown",
   "id": "3d5e49a3",
   "metadata": {},
   "source": [
    "# Assignment 1 Working on Markdown \n",
    "## Corey Merritt\n",
    "### Jupyter Labs\n",
    "#### Fall 2023 "
   ]
  },
  {
   "cell_type": "code",
   "execution_count": null,
   "id": "04efacdf",
   "metadata": {},
   "outputs": [],
   "source": []
  }
 ],
 "metadata": {
  "kernelspec": {
   "display_name": "Python 3 (ipykernel)",
   "language": "python",
   "name": "python3"
  },
  "language_info": {
   "codemirror_mode": {
    "name": "ipython",
    "version": 3
   },
   "file_extension": ".py",
   "mimetype": "text/x-python",
   "name": "python",
   "nbconvert_exporter": "python",
   "pygments_lexer": "ipython3",
   "version": "3.11.4"
  }
 },
 "nbformat": 4,
 "nbformat_minor": 5
}
